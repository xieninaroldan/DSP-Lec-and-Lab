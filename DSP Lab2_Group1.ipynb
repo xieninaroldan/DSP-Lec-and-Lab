{
 "cells": [
  {
   "cell_type": "markdown",
   "metadata": {},
   "source": [
    "# Number 1"
   ]
  },
  {
   "cell_type": "code",
   "execution_count": 6,
   "metadata": {},
   "outputs": [],
   "source": [
    "import numpy as np\n",
    "import matplotlib as plt"
   ]
  },
  {
   "cell_type": "code",
   "execution_count": 27,
   "metadata": {},
   "outputs": [
    {
     "name": "stdout",
     "output_type": "stream",
     "text": [
      "[ 4 -2  6  8]\n",
      "3.4433962264150946 4.698113207547171 1.6226415094339626 0.23584905660377356\n",
      "10.000000000000004\n",
      "8.0\n",
      "-2.999999999999999\n",
      "5.000000000000001\n"
     ]
    }
   ],
   "source": [
    "A = np.array ([[1,1,1,1],[2,-1,3,4],[-3,2,-2,5],[1,-1,4,-1]]) \n",
    "\n",
    "B = np.array([10,8,-3,5])\n",
    "\n",
    "\n",
    "A1 = ((A[0]*2)-A[1])\n",
    "sol = np.linalg.solve(A,B)\n",
    "\n",
    "x , y , z , w = sol\n",
    "\n",
    "print(mat)\n",
    "print(x,y,z,w)\n",
    "print(x+y+z+w)\n",
    "print((2*x)-y+(3*z)+(4*w))\n",
    "print((-3*x)+(2*y)-(2*z)+(5*w))\n",
    "print(x-y+(4*z)-w)"
   ]
  },
  {
   "cell_type": "markdown",
   "metadata": {},
   "source": [
    "# Number 2"
   ]
  },
  {
   "cell_type": "code",
   "execution_count": 19,
   "metadata": {},
   "outputs": [
    {
     "name": "stdout",
     "output_type": "stream",
     "text": [
      "0.00967741935483871 0.004193548387096773 0.013870967741935485\n",
      "12.000000000000002\n",
      "15.0\n"
     ]
    }
   ],
   "source": [
    "current = np.array([[1500,-600,0],[0,600,900],[1,1,-1]])\n",
    "voltage = np.array([12,15,0])\n",
    "\n",
    "cur = np.linalg.solve (current,voltage)\n",
    "\n",
    "i1 , i2, i3 = cur\n",
    "\n",
    "print (i1,i2,i3)\n",
    "print ((i1*1500)-(i2*600))\n",
    "print ((i2*600)+(i3*900))"
   ]
  },
  {
   "cell_type": "markdown",
   "metadata": {},
   "source": [
    "# Number 3"
   ]
  },
  {
   "cell_type": "code",
   "execution_count": 14,
   "metadata": {},
   "outputs": [
    {
     "name": "stdout",
     "output_type": "stream",
     "text": [
      "[[-0.375 -0.125  0.625]\n",
      " [-0.125  0.625 -0.125]\n",
      " [ 0.625 -0.125 -0.375]]\n"
     ]
    }
   ],
   "source": [
    "inverse = np.array([[2,1,3],[1,2,1],[3,1,2]])\n",
    "\n",
    "answer = np.linalg.inv(inverse)\n",
    "\n",
    "print (answer)"
   ]
  }
 ],
 "metadata": {
  "kernelspec": {
   "display_name": "lab2",
   "language": "python",
   "name": "python3"
  },
  "language_info": {
   "codemirror_mode": {
    "name": "ipython",
    "version": 3
   },
   "file_extension": ".py",
   "mimetype": "text/x-python",
   "name": "python",
   "nbconvert_exporter": "python",
   "pygments_lexer": "ipython3",
   "version": "3.11.0"
  }
 },
 "nbformat": 4,
 "nbformat_minor": 2
}
