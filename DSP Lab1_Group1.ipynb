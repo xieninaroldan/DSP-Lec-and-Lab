{
 "cells": [
  {
   "cell_type": "markdown",
   "id": "1ab86f50-373c-4730-9cf8-a77c594912fc",
   "metadata": {},
   "source": [
    "# Python Programming Fundamentals"
   ]
  },
  {
   "cell_type": "markdown",
   "id": "5cb7e8a5-05a7-460f-b726-617ece2f0abb",
   "metadata": {},
   "source": [
    "## Variable and Data Types"
   ]
  },
  {
   "cell_type": "code",
   "execution_count": 8,
   "id": "fa1f4818-d3ce-44fb-a155-d49b2e8cf2e2",
   "metadata": {},
   "outputs": [],
   "source": [
    "x = 1\n",
    "a,b = 0, -1"
   ]
  },
  {
   "cell_type": "code",
   "execution_count": 6,
   "id": "a2ee733d-a13f-4d09-ba5e-f3edfc22be85",
   "metadata": {},
   "outputs": [
    {
     "data": {
      "text/plain": [
       "int"
      ]
     },
     "execution_count": 6,
     "metadata": {},
     "output_type": "execute_result"
    }
   ],
   "source": [
    "type(x)"
   ]
  },
  {
   "cell_type": "code",
   "execution_count": 9,
   "id": "ac82a88a-120e-4dc7-8e36-90037702a2ca",
   "metadata": {},
   "outputs": [
    {
     "data": {
      "text/plain": [
       "float"
      ]
     },
     "execution_count": 9,
     "metadata": {},
     "output_type": "execute_result"
    }
   ],
   "source": [
    "y = 1.0\n",
    "type(y)"
   ]
  },
  {
   "cell_type": "code",
   "execution_count": 10,
   "id": "29e0ccb2-c7aa-4c40-94a1-78d4f51fdfbd",
   "metadata": {},
   "outputs": [
    {
     "data": {
      "text/plain": [
       "float"
      ]
     },
     "execution_count": 10,
     "metadata": {},
     "output_type": "execute_result"
    }
   ],
   "source": [
    "x = float(x)\n",
    "type(x)"
   ]
  },
  {
   "cell_type": "code",
   "execution_count": 11,
   "id": "d6a0df5a-aece-4dd5-8529-9fe4eb5edb8e",
   "metadata": {},
   "outputs": [
    {
     "data": {
      "text/plain": [
       "str"
      ]
     },
     "execution_count": 11,
     "metadata": {},
     "output_type": "execute_result"
    }
   ],
   "source": [
    "s,t,u = \"0\", '1', 'one'\n",
    "type(s)"
   ]
  },
  {
   "cell_type": "code",
   "execution_count": 12,
   "id": "84c6949d-a299-4c4a-8e8b-5907ce3478c4",
   "metadata": {},
   "outputs": [
    {
     "data": {
      "text/plain": [
       "0"
      ]
     },
     "execution_count": 12,
     "metadata": {},
     "output_type": "execute_result"
    }
   ],
   "source": [
    "s_int = int(s)\n",
    "s_int"
   ]
  },
  {
   "cell_type": "markdown",
   "id": "a9d85ad1-06c2-44fb-8749-f4e87160730c",
   "metadata": {},
   "source": [
    "## Operations"
   ]
  },
  {
   "cell_type": "markdown",
   "id": "a9777c81-37b4-4d05-9547-1252db1b6b36",
   "metadata": {},
   "source": [
    "### Arithmetic"
   ]
  },
  {
   "cell_type": "code",
   "execution_count": 13,
   "id": "fcef465b-330b-4af8-ac82-ab1f040103b7",
   "metadata": {},
   "outputs": [],
   "source": [
    "a,b,c,d = 2.0, -0.5, 0, -32"
   ]
  },
  {
   "cell_type": "code",
   "execution_count": 14,
   "id": "2ee1b737-af16-4e6b-a09c-b5ee59c6b497",
   "metadata": {},
   "outputs": [
    {
     "data": {
      "text/plain": [
       "1.5"
      ]
     },
     "execution_count": 14,
     "metadata": {},
     "output_type": "execute_result"
    }
   ],
   "source": [
    "### Addition\n",
    "S = a+b\n",
    "S"
   ]
  },
  {
   "cell_type": "code",
   "execution_count": 15,
   "id": "9e0ffa49-232e-41af-828e-06d901dbc168",
   "metadata": {},
   "outputs": [
    {
     "data": {
      "text/plain": [
       "31.5"
      ]
     },
     "execution_count": 15,
     "metadata": {},
     "output_type": "execute_result"
    }
   ],
   "source": [
    "### Subtraction\n",
    "D = b-d\n",
    "D"
   ]
  },
  {
   "cell_type": "code",
   "execution_count": 16,
   "id": "d1bafce6-3f16-4fb8-b5ed-ae4c8b99e880",
   "metadata": {},
   "outputs": [
    {
     "data": {
      "text/plain": [
       "-64.0"
      ]
     },
     "execution_count": 16,
     "metadata": {},
     "output_type": "execute_result"
    }
   ],
   "source": [
    "### Multiplication\n",
    "P = a*d\n",
    "P"
   ]
  },
  {
   "cell_type": "code",
   "execution_count": 17,
   "id": "d5d3dcb4-2a3b-4150-9367-ed417d528b37",
   "metadata": {},
   "outputs": [
    {
     "data": {
      "text/plain": [
       "0.0"
      ]
     },
     "execution_count": 17,
     "metadata": {},
     "output_type": "execute_result"
    }
   ],
   "source": [
    "### Division\n",
    "Q = c/a\n",
    "Q"
   ]
  },
  {
   "cell_type": "code",
   "execution_count": 18,
   "id": "26cda627-9af6-45e4-8383-0449eae99056",
   "metadata": {},
   "outputs": [
    {
     "data": {
      "text/plain": [
       "-4.0"
      ]
     },
     "execution_count": 18,
     "metadata": {},
     "output_type": "execute_result"
    }
   ],
   "source": [
    "### Floor Division\n",
    "Fq = a//b\n",
    "Fq"
   ]
  },
  {
   "cell_type": "code",
   "execution_count": 19,
   "id": "ef10c69e-7232-44ff-a2a8-ca9a2037a757",
   "metadata": {},
   "outputs": [
    {
     "data": {
      "text/plain": [
       "0.7071067811865476"
      ]
     },
     "execution_count": 19,
     "metadata": {},
     "output_type": "execute_result"
    }
   ],
   "source": [
    "### Exponentation\n",
    "E = a**b\n",
    "E"
   ]
  },
  {
   "cell_type": "code",
   "execution_count": 20,
   "id": "5fda57b6-aa8c-421c-a855-0e6787d79569",
   "metadata": {},
   "outputs": [
    {
     "data": {
      "text/plain": [
       "0.0"
      ]
     },
     "execution_count": 20,
     "metadata": {},
     "output_type": "execute_result"
    }
   ],
   "source": [
    "### Modulo\n",
    "mod = d%a\n",
    "mod"
   ]
  },
  {
   "cell_type": "markdown",
   "id": "9b450eb4-13d5-4ba7-b0d2-b02b966d10b4",
   "metadata": {},
   "source": [
    "### Assignment Operations"
   ]
  },
  {
   "cell_type": "code",
   "execution_count": 21,
   "id": "5b94e5b6-487c-43d6-8b05-b8cb52d7e40d",
   "metadata": {},
   "outputs": [],
   "source": [
    "G, H, J, K = 0, 100, 2, 2"
   ]
  },
  {
   "cell_type": "code",
   "execution_count": 22,
   "id": "bfa7c631-c925-4c90-8465-0ca936ffab70",
   "metadata": {},
   "outputs": [
    {
     "data": {
      "text/plain": [
       "2.0"
      ]
     },
     "execution_count": 22,
     "metadata": {},
     "output_type": "execute_result"
    }
   ],
   "source": [
    "G += a\n",
    "G"
   ]
  },
  {
   "cell_type": "code",
   "execution_count": 23,
   "id": "6324ee8c-9b51-4ee0-ad13-3c990f082b6f",
   "metadata": {},
   "outputs": [],
   "source": [
    "H -= d "
   ]
  },
  {
   "cell_type": "code",
   "execution_count": 24,
   "id": "7c998353-4c1b-4d86-8836-0305291e81e5",
   "metadata": {},
   "outputs": [
    {
     "data": {
      "text/plain": [
       "4"
      ]
     },
     "execution_count": 24,
     "metadata": {},
     "output_type": "execute_result"
    }
   ],
   "source": [
    "J *= 2\n",
    "J"
   ]
  },
  {
   "cell_type": "code",
   "execution_count": 25,
   "id": "23a86183-8e3b-488b-a0fb-da07d0ae4215",
   "metadata": {},
   "outputs": [
    {
     "data": {
      "text/plain": [
       "4"
      ]
     },
     "execution_count": 25,
     "metadata": {},
     "output_type": "execute_result"
    }
   ],
   "source": [
    "K **= 2\n",
    "K"
   ]
  },
  {
   "cell_type": "markdown",
   "id": "fbd3908a-a8de-4f0e-ad4c-495fd423d9e2",
   "metadata": {},
   "source": [
    "### Comparators"
   ]
  },
  {
   "cell_type": "code",
   "execution_count": 26,
   "id": "900bbc0b-514e-49f1-b267-db03ded416bb",
   "metadata": {},
   "outputs": [],
   "source": [
    "res_1, res_2, res_3 = 1, 2.0, \"1\"\n",
    "true_val = 1.0"
   ]
  },
  {
   "cell_type": "code",
   "execution_count": 27,
   "id": "083aa42a-cd34-449b-85a1-3c9500e866cd",
   "metadata": {},
   "outputs": [
    {
     "data": {
      "text/plain": [
       "True"
      ]
     },
     "execution_count": 27,
     "metadata": {},
     "output_type": "execute_result"
    }
   ],
   "source": [
    "## Equality\n",
    "res_1 == true_val"
   ]
  },
  {
   "cell_type": "code",
   "execution_count": 28,
   "id": "1ce2f71b-c0c3-43d7-83f5-7351ad3581ee",
   "metadata": {},
   "outputs": [
    {
     "data": {
      "text/plain": [
       "True"
      ]
     },
     "execution_count": 28,
     "metadata": {},
     "output_type": "execute_result"
    }
   ],
   "source": [
    "## Non-equality\n",
    "res_2 != true_val"
   ]
  },
  {
   "cell_type": "code",
   "execution_count": 30,
   "id": "23317206-a96f-404f-8cea-931b359104f2",
   "metadata": {},
   "outputs": [
    {
     "data": {
      "text/plain": [
       "False"
      ]
     },
     "execution_count": 30,
     "metadata": {},
     "output_type": "execute_result"
    }
   ],
   "source": [
    "## Inequality\n",
    "t1 = res_1 > res_2\n",
    "t2 = res_1 < res_2/2\n",
    "t3 = res_1 >= res_2/2\n",
    "t4 = res_1 <= res_2\n",
    "t1"
   ]
  },
  {
   "cell_type": "markdown",
   "id": "8e4873a2-70c5-4905-a040-5da223ab8194",
   "metadata": {},
   "source": [
    "## Logical"
   ]
  },
  {
   "cell_type": "code",
   "execution_count": 31,
   "id": "a98de304-33ee-4c6f-accf-cb0782720285",
   "metadata": {},
   "outputs": [
    {
     "data": {
      "text/plain": [
       "True"
      ]
     },
     "execution_count": 31,
     "metadata": {},
     "output_type": "execute_result"
    }
   ],
   "source": [
    "res_1 == true_val"
   ]
  },
  {
   "cell_type": "raw",
   "id": "aadbf2d1-7b0e-47ac-8ca5-fc84b08f3dfd",
   "metadata": {},
   "source": [
    "res_1 is true_val"
   ]
  },
  {
   "cell_type": "code",
   "execution_count": 32,
   "id": "427fdb16-b10a-4e42-b3f9-99aecc05bc6e",
   "metadata": {},
   "outputs": [
    {
     "data": {
      "text/plain": [
       "True"
      ]
     },
     "execution_count": 32,
     "metadata": {},
     "output_type": "execute_result"
    }
   ],
   "source": [
    "res_1 is not true_val"
   ]
  },
  {
   "cell_type": "code",
   "execution_count": 33,
   "id": "c1c7a679-10be-44ba-b8a3-c3ba35e08019",
   "metadata": {},
   "outputs": [
    {
     "data": {
      "text/plain": [
       "False"
      ]
     },
     "execution_count": 33,
     "metadata": {},
     "output_type": "execute_result"
    }
   ],
   "source": [
    "p, q = True, False\n",
    "conj = p and q\n",
    "conj"
   ]
  },
  {
   "cell_type": "code",
   "execution_count": 34,
   "id": "d742c9ef-306e-4a92-90d7-836ee11ed006",
   "metadata": {},
   "outputs": [
    {
     "data": {
      "text/plain": [
       "True"
      ]
     },
     "execution_count": 34,
     "metadata": {},
     "output_type": "execute_result"
    }
   ],
   "source": [
    "p, q = True, False\n",
    "disj = p or q\n",
    "disj"
   ]
  },
  {
   "cell_type": "code",
   "execution_count": 35,
   "id": "cdbd3d4f-906a-47d8-a823-06e28fb55c50",
   "metadata": {},
   "outputs": [
    {
     "data": {
      "text/plain": [
       "True"
      ]
     },
     "execution_count": 35,
     "metadata": {},
     "output_type": "execute_result"
    }
   ],
   "source": [
    "p, q = True, False\n",
    "nand = not(p and q)\n",
    "nand"
   ]
  },
  {
   "cell_type": "code",
   "execution_count": 36,
   "id": "546c2346-12b1-4b62-99f4-86dacbd83dd1",
   "metadata": {},
   "outputs": [
    {
     "data": {
      "text/plain": [
       "True"
      ]
     },
     "execution_count": 36,
     "metadata": {},
     "output_type": "execute_result"
    }
   ],
   "source": [
    "p,q = True, False\n",
    "xor = (not p and q) or (p and not q)\n",
    "xor"
   ]
  },
  {
   "cell_type": "markdown",
   "id": "847a3381-da4d-4cf5-9a5c-5e692408edab",
   "metadata": {},
   "source": [
    "### I/O"
   ]
  },
  {
   "cell_type": "code",
   "execution_count": 37,
   "id": "0d1fc50b-1912-4f23-a7b0-d85ba8de289a",
   "metadata": {},
   "outputs": [
    {
     "name": "stdout",
     "output_type": "stream",
     "text": [
      "Hello World\n"
     ]
    }
   ],
   "source": [
    "print(\"Hello World\")"
   ]
  },
  {
   "cell_type": "code",
   "execution_count": 38,
   "id": "d194bb0d-3c95-4f11-a34d-fb663022ccbf",
   "metadata": {},
   "outputs": [],
   "source": [
    "cnt = 1"
   ]
  },
  {
   "cell_type": "raw",
   "id": "e46979e9-a6f6-4f3f-abf2-f08a50879d7a",
   "metadata": {},
   "source": [
    "string = \"Hello World\"\n",
    "print(string, \"Current run count is:\", cnt)\n",
    "cnt += 1"
   ]
  },
  {
   "cell_type": "code",
   "execution_count": 41,
   "id": "c101b500-d962-4172-8993-be2a8662a0c4",
   "metadata": {},
   "outputs": [
    {
     "name": "stdout",
     "output_type": "stream",
     "text": [
      "{string}, Current count is: {cnt}\n"
     ]
    }
   ],
   "source": [
    "print(\"{string}, Current count is: {cnt}\")"
   ]
  },
  {
   "cell_type": "code",
   "execution_count": 42,
   "id": "9f9ba2f2-de7d-498b-b494-248b4374ddb7",
   "metadata": {},
   "outputs": [
    {
     "name": "stdout",
     "output_type": "stream",
     "text": [
      "Hello , your semestral grade is: 82.24356465746123\n"
     ]
    }
   ],
   "source": [
    "sem_grade = 82.243564657461234\n",
    "name = \"\"\n",
    "print(\"Hello {}, your semestral grade is: {}\".format(name, sem_grade))"
   ]
  },
  {
   "cell_type": "code",
   "execution_count": 43,
   "id": "fc479370-928f-4730-93ee-bb41572e994b",
   "metadata": {},
   "outputs": [
    {
     "name": "stdout",
     "output_type": "stream",
     "text": [
      "The weights of your semestral grades are:\n",
      "\t30.00% for Prelims\n",
      "\t30.00% for Midterms, and\n",
      "\t40.00% for Finals.\n"
     ]
    }
   ],
   "source": [
    "w_pg, w_mg, w_fg = 0.3, 0.3, 0.4\n",
    "print(\"The weights of your semestral grades are:\\\n",
    "\\n\\t{:.2%} for Prelims\\\n",
    "\\n\\t{:.2%} for Midterms, and\\\n",
    "\\n\\t{:.2%} for Finals.\".format(w_pg, w_mg, w_fg))"
   ]
  },
  {
   "cell_type": "code",
   "execution_count": 44,
   "id": "4590206a-93fb-4246-b807-3199eef0f497",
   "metadata": {},
   "outputs": [
    {
     "name": "stdin",
     "output_type": "stream",
     "text": [
      "enter a number:  9\n"
     ]
    },
    {
     "data": {
      "text/plain": [
       "'9'"
      ]
     },
     "execution_count": 44,
     "metadata": {},
     "output_type": "execute_result"
    }
   ],
   "source": [
    "x = input(\"enter a number: \")\n",
    "x"
   ]
  },
  {
   "cell_type": "code",
   "execution_count": 45,
   "id": "50a3bef6-40c1-42db-8d95-8a8b2361cc07",
   "metadata": {},
   "outputs": [
    {
     "name": "stdin",
     "output_type": "stream",
     "text": [
      "Kimi no nawa:  Xienina\n",
      "Enter prelim grade:  91\n",
      "Enter midterm grade:  92\n",
      "Enter finals grade:  93\n"
     ]
    },
    {
     "name": "stdout",
     "output_type": "stream",
     "text": [
      "Hello Xienina, your semstral grade is: None\n"
     ]
    }
   ],
   "source": [
    "name = input(\"Kimi no nawa: \")\n",
    "pg = input(\"Enter prelim grade: \")\n",
    "mg = input(\"Enter midterm grade: \")\n",
    "fg = input(\"Enter finals grade: \")\n",
    "sem_grade = None\n",
    "print(\"Hello {}, your semstral grade is: {}\".format(name, sem_grade))"
   ]
  },
  {
   "cell_type": "markdown",
   "id": "76d3028c-7d05-4d84-bc03-2bbc88ae8778",
   "metadata": {},
   "source": [
    "## Looping Statements"
   ]
  },
  {
   "cell_type": "markdown",
   "id": "8c03631c-3f39-4f86-8bdc-0b33cd08d22c",
   "metadata": {},
   "source": [
    "### While"
   ]
  },
  {
   "cell_type": "code",
   "execution_count": 47,
   "id": "d07490c3-e548-4e39-8db7-4d0a2fb155e0",
   "metadata": {},
   "outputs": [
    {
     "name": "stdout",
     "output_type": "stream",
     "text": [
      "0|t10\n",
      "1|t10\n",
      "2|t10\n",
      "3|t10\n",
      "4|t10\n",
      "5|t10\n",
      "6|t10\n",
      "7|t10\n",
      "8|t10\n",
      "9|t10\n",
      "10|t10\n"
     ]
    }
   ],
   "source": [
    "## while loops\n",
    "i, j = 0, 10\n",
    "while(i<=j):\n",
    "    print(f\"{i}|t{j}\")\n",
    "    i+=1"
   ]
  },
  {
   "cell_type": "markdown",
   "id": "b74003bb-e3ee-4b2c-aa63-e33e65b49443",
   "metadata": {},
   "source": [
    "### For"
   ]
  },
  {
   "cell_type": "code",
   "execution_count": 48,
   "id": "7480ab9c-4f23-4587-bef3-1096557f832c",
   "metadata": {},
   "outputs": [
    {
     "name": "stdout",
     "output_type": "stream",
     "text": [
      "0\n",
      "1\n",
      "2\n",
      "3\n",
      "4\n",
      "5\n",
      "6\n",
      "7\n",
      "8\n",
      "9\n"
     ]
    }
   ],
   "source": [
    "# for(int i=0; i<10; i++){\n",
    "# printf(i)\n",
    "# }\n",
    "\n",
    "i=0\n",
    "for i in range(10):\n",
    "    print(i)"
   ]
  },
  {
   "cell_type": "code",
   "execution_count": 49,
   "id": "66232f9d-23ff-4c76-a931-7cf3920ed7d6",
   "metadata": {},
   "outputs": [
    {
     "name": "stdout",
     "output_type": "stream",
     "text": [
      "Now Playing:\n",
      "\n"
     ]
    }
   ],
   "source": [
    "playlist = []\n",
    "print('Now Playing:\\n')\n",
    "for song in playlist:\n",
    "    print(song)"
   ]
  },
  {
   "cell_type": "markdown",
   "id": "721bfb11-c9f6-4f94-a223-26bf0ed61a06",
   "metadata": {},
   "source": [
    "## Flow Control"
   ]
  },
  {
   "cell_type": "markdown",
   "id": "ca7b59b5-a30b-4e9d-adc5-3be5d91f98b1",
   "metadata": {},
   "source": [
    "### Condition Statements"
   ]
  },
  {
   "cell_type": "code",
   "execution_count": 53,
   "id": "20a0f62f-0175-4759-876e-47ab91500647",
   "metadata": {},
   "outputs": [
    {
     "name": "stdout",
     "output_type": "stream",
     "text": [
      "Yey\n",
      "Hip hip\n"
     ]
    }
   ],
   "source": [
    "numeral1, numeral2 = 12, 12\n",
    "if(numeral1 == numeral2):\n",
    "    print(\"Yey\")\n",
    "elif(numeral1>numeral2):\n",
    "    print(\"Hoho\")\n",
    "else:\n",
    "    print(\"Aww\")\n",
    "print(\"Hip hip\")"
   ]
  },
  {
   "cell_type": "markdown",
   "id": "a739bc80-cba6-46b4-9843-130efd7ffd05",
   "metadata": {},
   "source": [
    "## Functions"
   ]
  },
  {
   "cell_type": "code",
   "execution_count": 54,
   "id": "3371786c-a587-4347-ba1f-aea83659d7e7",
   "metadata": {},
   "outputs": [],
   "source": [
    "# void DeleteUser(int userid){\n",
    "# delete(userid);\n",
    "# }\n",
    "\n",
    "def delete_user (userid):\n",
    "    print(\"Successfully deleted user: {}\".format(userid))\n",
    "\n",
    "def delete_all_users ():\n",
    "    print(\"Successfully deleted all users\")"
   ]
  },
  {
   "cell_type": "code",
   "execution_count": 55,
   "id": "5c465513-f6e9-479a-8cba-4354466f5245",
   "metadata": {},
   "outputs": [
    {
     "name": "stdout",
     "output_type": "stream",
     "text": [
      "Successfully deleted user: 0\n",
      "Successfully deleted all users\n"
     ]
    }
   ],
   "source": [
    "userid = 0\n",
    "delete_user(0)\n",
    "delete_all_users()"
   ]
  },
  {
   "cell_type": "code",
   "execution_count": 56,
   "id": "ec993812-fa9a-4a72-851c-29daa538fba2",
   "metadata": {},
   "outputs": [],
   "source": [
    "def add(addend1, addend2):\n",
    "    return addend1 + addend2\n",
    "\n",
    "def power_of_base2(exponents):\n",
    "    return 2**exponent"
   ]
  },
  {
   "cell_type": "markdown",
   "id": "b6da58ca-80fe-46d9-9340-cba0b9effad6",
   "metadata": {},
   "source": [
    "### Lambda Functions"
   ]
  },
  {
   "cell_type": "code",
   "execution_count": 57,
   "id": "992df104-b9d4-4d23-b0d5-529dd4e3c8dd",
   "metadata": {},
   "outputs": [],
   "source": [
    "x = 4"
   ]
  },
  {
   "cell_type": "code",
   "execution_count": 58,
   "id": "ebfeb8f2-fae9-407e-bc38-4cc9e7da551d",
   "metadata": {},
   "outputs": [
    {
     "data": {
      "text/plain": [
       "31"
      ]
     },
     "execution_count": 58,
     "metadata": {},
     "output_type": "execute_result"
    }
   ],
   "source": [
    "def f(x):\n",
    "    return 2*(x*x)-1\n",
    "f(x)"
   ]
  },
  {
   "cell_type": "code",
   "execution_count": 59,
   "id": "d848205e-7659-4334-95be-d6b75b6b124b",
   "metadata": {},
   "outputs": [
    {
     "name": "stdout",
     "output_type": "stream",
     "text": [
      "31\n"
     ]
    }
   ],
   "source": [
    "g = lambda x: 2*(x*x)-1\n",
    "print(g(x))"
   ]
  },
  {
   "cell_type": "markdown",
   "id": "fcc9715a-ec48-42b2-a012-137141488c7e",
   "metadata": {},
   "source": [
    "# Supplementary Activity"
   ]
  },
  {
   "cell_type": "code",
   "execution_count": null,
   "id": "52999730-ea97-4287-a01a-a602f41b41df",
   "metadata": {},
   "outputs": [],
   "source": [
    "...\n",
    "Create a grade calculator that computes for the semestral grade of a course.\n",
    "Students could type their names, the name of the course, then their prelim, midterm, and final grade.\n",
    "The program should print the semestral grade in 2 decimal points and should display the following emojis depending on the situation:\n",
    "happy - when grade is greater than 70.00\n",
    "laughing - when grade is exactly 70.00\n",
    "sad - when grade is below 70.00\n",
    "At the same time, the user must have the option to show their equivalent grades based on the given image on the lab experiment.\n",
    "...\n",
    "\n",
    "happy, lol, sad = \"\\U0001F600\",\"\\U0001F606\",\"\\U0001F62D\""
   ]
  },
  {
   "cell_type": "code",
   "execution_count": 75,
   "id": "bc9dc441-b994-4daf-9422-6984d595dbcd",
   "metadata": {},
   "outputs": [
    {
     "name": "stdout",
     "output_type": "stream",
     "text": [
      "Semestral Grade Calculator for CpE\n",
      "\n"
     ]
    },
    {
     "name": "stdin",
     "output_type": "stream",
     "text": [
      "Enter your name:  Xienina\n",
      "Enter course to be computed:  DSP\n",
      "\n",
      "Enter your prelim grade:  85\n",
      "Enter your midterm grade:  88\n",
      "Enter your final grade:  90\n"
     ]
    },
    {
     "name": "stdout",
     "output_type": "stream",
     "text": [
      "\n",
      "Xienina, your semestral grade for DSP is 87.9, that is equivalent to 1.75 😀\n"
     ]
    }
   ],
   "source": [
    "print(\"Semestral Grade Calculator for CpE\\n\")\n",
    "StudentName = input(\"Enter your name: \")\n",
    "SubjectCourse = input(\"Enter course to be computed: \")\n",
    "\n",
    "PrelimGrade = int(input(\"\\nEnter your prelim grade: \"))\n",
    "MidtermGrade = int(input(\"Enter your midterm grade: \"))\n",
    "FinalGrade = int(input(\"Enter your final grade: \"))\n",
    "SemestralGrade = (PrelimGrade * 0.30) + (MidtermGrade * 0.30) + (FinalGrade * 0.40) / (100) * 100\n",
    "RoundOffGrade = round(SemestralGrade, 2)\n",
    "\n",
    "if SemestralGrade > 96:\n",
    "    GradeEquivalent = \"1.00\"\n",
    "elif SemestralGrade > 92:\n",
    "    GradeEquivalent = \"1.25\"\n",
    "elif SemestralGrade > 88:\n",
    "    GradeEquivalent = \"1.50\"\n",
    "elif SemestralGrade > 84:\n",
    "    GradeEquivalent = \"1.75\"\n",
    "elif SemestralGrade > 81:\n",
    "    GradeEquivalent = \"2.00\"\n",
    "elif SemestralGrade > 78:\n",
    "    GradeEquivalent = \"2.25\"\n",
    "elif SemestralGrade > 75:\n",
    "    GradeEquivalent = \"2.50\"\n",
    "elif SemestralGrade > 72:\n",
    "    GradeEquivalent = \"2.75\"\n",
    "elif SemestralGrade > 69:\n",
    "    GradeEquivalent = \"3.00\"\n",
    "else:\n",
    "    GradeEquivalent = \"5.00\"\n",
    "\n",
    "\n",
    "if(SemestralGrade > 70):\n",
    "    print(\"\\n\" + StudentName + \", your semestral grade for \" + SubjectCourse + \" is \" + \n",
    "          str(RoundOffGrade) + \", that is equivalent to \" + GradeEquivalent + \" \\U0001F600\" )\n",
    "    \n",
    "elif(SemestralGrade == 70):\n",
    "    print(\"\\n\" + StudentName + \", your semestral grade for \" + SubjectCourse + \" is \" + \n",
    "          str(RoundOffGrade) + \", that is equivalent to \" + GradeEquivalent + \" \\U0001F606\" )\n",
    "    \n",
    "elif(SemestralGrade < 70):\n",
    "    print(\"\\n\" + StudentName + \", your semestral grade for \" + SubjectCourse + \" is \" + \n",
    "          str(RoundOffGrade) + \", that is equivalent to \" + GradeEquivalent + \" \\U0001F62D\" )"
   ]
  },
  {
   "cell_type": "code",
   "execution_count": null,
   "id": "cf51053d-3d21-4f8f-a3aa-d7c0b615728c",
   "metadata": {},
   "outputs": [],
   "source": []
  }
 ],
 "metadata": {
  "kernelspec": {
   "display_name": "Python 3 (ipykernel)",
   "language": "python",
   "name": "python3"
  },
  "language_info": {
   "codemirror_mode": {
    "name": "ipython",
    "version": 3
   },
   "file_extension": ".py",
   "mimetype": "text/x-python",
   "name": "python",
   "nbconvert_exporter": "python",
   "pygments_lexer": "ipython3",
   "version": "3.12.4"
  }
 },
 "nbformat": 4,
 "nbformat_minor": 5
}
